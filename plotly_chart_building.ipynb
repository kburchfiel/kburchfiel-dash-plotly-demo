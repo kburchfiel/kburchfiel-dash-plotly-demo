{
 "cells": [
  {
   "cell_type": "markdown",
   "metadata": {},
   "source": [
    "Jupyter notebook for testing out Plotly graphs. (Once I have the graph code working on this page, I can then add it to my app.py page so that it will get included in my Dash app.)"
   ]
  },
  {
   "cell_type": "code",
   "execution_count": null,
   "metadata": {},
   "outputs": [],
   "source": [
    "import pandas as pd\n",
    "import plotly.express as px\n",
    "import nbformat\n",
    "import numpy as np\n",
    "import plotly.graph_objects as go"
   ]
  },
  {
   "cell_type": "code",
   "execution_count": null,
   "metadata": {},
   "outputs": [],
   "source": [
    "airline_color_map = {\n",
    "    \"DL\":\"#E3132C\",\n",
    "    \"UA\":\"#005DAA\",\n",
    "    \"AA\":\"gray\",\n",
    "    \"WN\":\"#F9B612\",\n",
    "    \"AS\":\"green\",\n",
    "    \"B6\":\"#003876\",\n",
    "    \"Other\":\"#804000\"\n",
    "}\n",
    "# See https://plotly.com/python/discrete-color/\n",
    "\n",
    "# RGB color sources:\n",
    "# Delta: Schemecolor at https://www.schemecolor.com/delta-airlines-logo-colors.php\n",
    "# United: Keshav Naidu at https://www.schemecolor.com/united-airlines-logo-blue-color.php\n",
    "# JetBlue: Schemecolor at https://www.schemecolor.com/jetblue-airways-logo-color.php\n",
    "# AA: I had initially used the gray color provided at \n",
    "# https://coloropedia.com/american-airlines-group-colors-logo-codes/ ,\n",
    "# but that proved to be too light, so I chose a generic gray instead.\n",
    "# Southwest (WN): https://www.schemecolor.com/southwest-airlines-logo-colors.php\n",
    "# Color for 'other': https://en.wikipedia.org/wiki/Brown "
   ]
  },
  {
   "cell_type": "markdown",
   "metadata": {},
   "source": [
    "## Creating a more interactive version of the top airports pivot table:"
   ]
  },
  {
   "cell_type": "code",
   "execution_count": null,
   "metadata": {},
   "outputs": [],
   "source": [
    "df_airline_airport_pairs = pd.read_csv('airport_airline_pairs_2018.csv')\n",
    "all_data_value = 'All_Traffic'\n",
    "df_airline_airport_pairs[all_data_value] = all_data_value"
   ]
  },
  {
   "cell_type": "code",
   "execution_count": null,
   "metadata": {},
   "outputs": [],
   "source": [
    "airline_color_map = {\n",
    "    \"DL\":\"#E3132C\",\n",
    "    \"UA\":\"#005DAA\",\n",
    "    \"AA\":\"gray\",\n",
    "    \"WN\":\"#F9B612\",\n",
    "    \"AS\":\"green\",\n",
    "    \"B6\":\"#003876\",\n",
    "    \"Other\":\"#804000\"\n",
    "}"
   ]
  },
  {
   "cell_type": "code",
   "execution_count": null,
   "metadata": {},
   "outputs": [],
   "source": [
    "# top_airports_graph_options = ['show_airline_comparison', 'show_route_type']\n",
    "# top_airports_graph_options = ['show_route_type']\n",
    "top_airports_graph_options = ['show_airline_comparison', 'show_route_type']\n",
    "# top_airports_graph_options = []\n",
    "\n",
    "\n",
    "top_airports_graph_options\n",
    "airports_graph_airports_limit = 20"
   ]
  },
  {
   "cell_type": "code",
   "execution_count": null,
   "metadata": {},
   "outputs": [],
   "source": [
    "data_source = df_airline_airport_pairs.copy() # Using a new copy\n",
    "if airports_graph_airports_limit == None:\n",
    "    airports_graph_airports_limit = 100\n",
    "if ((1 <= airports_graph_airports_limit <= 100) == False):\n",
    "    airports_graph_airports_limit = 100\n",
    "print(f\"Calling create_top_20_airports_graph with the following graph options: {top_airports_graph_options} and the following airports limit: {airports_graph_airports_limit}\")"
   ]
  },
  {
   "cell_type": "code",
   "execution_count": null,
   "metadata": {},
   "outputs": [],
   "source": [
    "top_airlines = list(data_source.pivot_table(index = 'Airline', values = 'Passengers', aggfunc = 'sum').sort_values('Passengers', ascending = False).index[0:4])\n",
    "top_airlines_as_string = (\"|\".join(top_airlines)) # Converts the airlines in the list to a string value that the following np.where statement can use to create an 'Other' category of airlines. # See\n",
    "# https://docs.python.org/3/library/stdtypes.html#str.join\n",
    "print(top_airlines_as_string)"
   ]
  },
  {
   "cell_type": "code",
   "execution_count": null,
   "metadata": {},
   "outputs": [],
   "source": [
    "top_airlines"
   ]
  },
  {
   "cell_type": "code",
   "execution_count": null,
   "metadata": {},
   "outputs": [],
   "source": [
    "data_source['Airline'] = np.where(data_source['Airline'].isin(top_airlines) == False, 'Other', data_source['Airline'])\n",
    "# See https://pandas.pydata.org/docs/reference/api/pandas.Series.str.contains.html\n",
    "# regarding the use of the pipe operator here.\n",
    "data_source"
   ]
  },
  {
   "cell_type": "code",
   "execution_count": null,
   "metadata": {},
   "outputs": [],
   "source": [
    "data_source['Airline'].value_counts()"
   ]
  },
  {
   "cell_type": "code",
   "execution_count": null,
   "metadata": {},
   "outputs": [],
   "source": [
    "df_airline_airport_pivot = data_source.pivot_table(index = 'Airport', values = 'Passengers', aggfunc = 'sum').sort_values('Passengers', ascending = False).reset_index()\n",
    "df_airline_airport_pivot['airport_rank'] = df_airline_airport_pivot['Passengers'].rank(ascending=False)\n",
    "df_airline_airport_pivot"
   ]
  },
  {
   "cell_type": "code",
   "execution_count": null,
   "metadata": {},
   "outputs": [],
   "source": [
    "airports_to_keep = list(df_airline_airport_pivot['Airport'][0:airports_graph_airports_limit].copy())\n",
    "airports_to_keep\n",
    "data_source_filtered = data_source.query(\"Airport in @airports_to_keep\").copy()\n",
    "data_source_filtered = data_source_filtered.merge(df_airline_airport_pivot[['Airport', 'airport_rank']], on = 'Airport')\n",
    "data_source_filtered"
   ]
  },
  {
   "cell_type": "code",
   "execution_count": null,
   "metadata": {},
   "outputs": [],
   "source": [
    "# The following code creates a pivot table based on the parameters specified above.\n",
    "\n",
    "pivot_values = ['Airport', 'airport_rank']\n",
    "\n",
    "if 'show_airline_comparison' in top_airports_graph_options:\n",
    "    pivot_values.append('Airline')\n",
    "\n",
    "if 'show_route_type' in top_airports_graph_options:\n",
    "    pivot_values.append('Route_Type')\n",
    "\n",
    "data_source_filtered_pivot = data_source_filtered.pivot_table(index = pivot_values,\n",
    "values = 'Passengers', aggfunc = 'sum').reset_index()\n",
    "data_source_filtered_pivot\n",
    "\n",
    "if ('show_airline_comparison' in top_airports_graph_options) and ('show_route_type' in top_airports_graph_options):\n",
    "    data_source_filtered_pivot['Airport_Route_Pair'] = data_source_filtered_pivot['Airport'] + ' ' + data_source_filtered_pivot['Route_Type']\n",
    "\n",
    "\n",
    "if 'show_route_type' in top_airports_graph_options:\n",
    "    data_source_filtered_pivot.sort_values(by = ['airport_rank', 'Airport', 'Route_Type'], inplace = True, ascending = [True, True, True])\n",
    "# See https://pandas.pydata.org/docs/reference/api/pandas.DataFrame.sort_values.html \n",
    "# regarding the list passed to the 'ascending' option here.\n",
    "\n",
    "else:\n",
    "    data_source_filtered_pivot.sort_values(by = ['airport_rank', 'Airport'], inplace = True, ascending = [True, True])\n",
    "\n",
    "\n",
    "data_source_filtered_pivot"
   ]
  },
  {
   "cell_type": "code",
   "execution_count": null,
   "metadata": {},
   "outputs": [],
   "source": [
    "# Since there are two different top_airports_graph_options items that\n",
    "    # can be chosen, there are in turn four possible graphs that can be created. \n",
    "    # Thus, the following code creates four separate bar charts.\n",
    "\n",
    "if ('show_airline_comparison' in top_airports_graph_options) and ('show_route_type' in top_airports_graph_options):\n",
    "\n",
    "    x_val = 'Airport_Route_Pair'\n",
    "    color_val = 'Airline'\n",
    "\n",
    "if top_airports_graph_options == ['show_airline_comparison']:\n",
    "    color_val = 'Airline'\n",
    "    x_val = 'Airport'\n",
    "\n",
    "if top_airports_graph_options == ['show_route_type']:\n",
    "    color_val = 'Route_Type'\n",
    "    x_val = 'Airport'\n",
    "\n",
    "if top_airports_graph_options == []:\n",
    "    color_val = 'Airport'\n",
    "    x_val = 'Airport'\n",
    "\n",
    "top_airports_graph = px.histogram(data_source_filtered_pivot, x = x_val, y = 'Passengers', color = color_val)\n",
    "top_airports_graph.update_xaxes(categoryorder = 'array', \n",
    "categoryarray = data_source_filtered_pivot[x_val])\n",
    "\n",
    "\n",
    "top_airports_graph"
   ]
  },
  {
   "cell_type": "code",
   "execution_count": null,
   "metadata": {},
   "outputs": [],
   "source": [
    "df_airline_airport_pairs.query(\"Destination_Region == 'Domestic'\")"
   ]
  },
  {
   "cell_type": "markdown",
   "metadata": {},
   "source": [
    "## Creating a pivot table that shows all grouped rows:"
   ]
  },
  {
   "cell_type": "code",
   "execution_count": null,
   "metadata": {},
   "outputs": [],
   "source": [
    "sample_list = ['Airline', 'Route_Type']\n"
   ]
  },
  {
   "cell_type": "code",
   "execution_count": null,
   "metadata": {},
   "outputs": [],
   "source": [
    "sample_list = ['Route_Type' if entry == 'Route_Type' else entry for entry in sample_list]\n",
    "sample_list"
   ]
  },
  {
   "cell_type": "code",
   "execution_count": null,
   "metadata": {},
   "outputs": [],
   "source": [
    "all_data_value = 'All_Traffic'\n",
    "df_t5_t4_2018 = pd.read_csv('t5_airports_t4_airlines_2018.csv')\n",
    "df_t5_t4_2018[all_data_value] = all_data_value # This column will allow\n",
    "# the code to show all values when no pivot value is selected.\n",
    "df_t5_t4_2018.head(5)"
   ]
  },
  {
   "cell_type": "markdown",
   "metadata": {},
   "source": [
    "## Method that creates a group for every column:"
   ]
  },
  {
   "cell_type": "code",
   "execution_count": null,
   "metadata": {},
   "outputs": [],
   "source": [
    "pivot_values = ['Airline', 'Airport', 'Route_Type']\n",
    "color_value = ['Airport']\n",
    "group_value = ['Airline']\n",
    "if len(pivot_values) == 0:\n",
    "    df_t5_t4_2018_pivot = df_t5_t4_2018.pivot_table(index = 'All_Traffic', values = 'Passengers', aggfunc = 'sum').reset_index()\n",
    "else:\n",
    "    df_t5_t4_2018_pivot = df_t5_t4_2018.pivot_table(index = pivot_values, values = 'Passengers', aggfunc = 'sum').reset_index()\n",
    "\n",
    "# The following lines create a column containing the values of each of the\n",
    "# columns (other than the 'Passengers') column present in the bar chart. A\n",
    "# for loop is used so that this column can adapt to different variable\n",
    "# choices and different numbers of columns.\n",
    "data_descriptor = df_t5_t4_2018_pivot.iloc[:,0].copy() # This copy() statement\n",
    "# is needed in order to avoid  modifying this column when the group column\n",
    "# gets chosen.\n",
    "for i in range(1, len(df_t5_t4_2018_pivot.columns) - 1):\n",
    "    data_descriptor += ' ' + df_t5_t4_2018_pivot.iloc[:, i]\n",
    "\n",
    "df_t5_t4_2018_pivot['Group'] = data_descriptor\n",
    "\n",
    "df_t5_t4_2018_pivot.head(5)"
   ]
  },
  {
   "cell_type": "code",
   "execution_count": null,
   "metadata": {},
   "outputs": [],
   "source": [
    "# Group/color example:\n",
    "px.histogram(df_t5_t4_2018_pivot, x = 'Airport', y = 'Passengers', color = 'Airline', barmode = 'group')"
   ]
  },
  {
   "cell_type": "code",
   "execution_count": null,
   "metadata": {},
   "outputs": [],
   "source": [
    "px.histogram(df_t5_t4_2018_pivot, x = 'Group', y = 'Passengers', color = 'Airline')"
   ]
  },
  {
   "cell_type": "code",
   "execution_count": null,
   "metadata": {},
   "outputs": [],
   "source": [
    "px.histogram(df_t5_t4_2018_pivot, x = 'Airport', y = 'Passengers', color = 'Airline', barmode = 'group')"
   ]
  },
  {
   "cell_type": "markdown",
   "metadata": {},
   "source": [
    "## Method that only creates a group for columns not present in the color section:\n",
    "\n",
    "I think I'l still need to plot the group column, but I can simplify it by removing the color column value from it."
   ]
  },
  {
   "cell_type": "code",
   "execution_count": null,
   "metadata": {},
   "outputs": [],
   "source": [
    "# The following code creates a pivot table version of the DataFrame that \n",
    "# can be used for creating bar charts. It takes the specified pivot values\n",
    "# and color values as inputs, and then uses those values to group the\n",
    "# data accordingly. The code works with different numbers of pivot values,\n",
    "# including zero pivot values.\n",
    "# In order to represent all of the specified values, the code creates a \n",
    "# column describing all (or almost all) of the pivot index variables\n",
    "# in the other columns, which then gets fed \n",
    "# into the x axis parameter of the bar chart. However, if a color value is\n",
    "# also specified, this item does not get added into this column, since this\n",
    "# data will already get represented in the bar chart (by means of the color\n",
    "# legend). Removing this value helps\n",
    "# simplify the final chart output.\n",
    "\n",
    "pivot_values = ['Airline', 'Airport', 'Route_Type']\n",
    "color_value = 'None' # This color value must also be present\n",
    "# within the pivot_values table.\n",
    "# group_value = 'Airline'\n",
    "if len(pivot_values) == 0:\n",
    "    df_t5_t4_2018_pivot = df_t5_t4_2018.pivot_table(index = 'All_Traffic', values = 'Passengers', aggfunc = 'sum').reset_index()\n",
    "else:\n",
    "    df_t5_t4_2018_pivot = df_t5_t4_2018.pivot_table(index = pivot_values, values = 'Passengers', aggfunc = 'sum').reset_index()\n",
    "\n",
    "# The following lines create a column containing the values of each of the\n",
    "# columns (other than the 'Passengers') column present in the bar chart. A\n",
    "# for loop is used so that this column can adapt to different variable\n",
    "# choices and different numbers of columns.\n",
    "if len(pivot_values) == 0:\n",
    "    data_descriptor = all_data_value\n",
    "else:\n",
    "    data_descriptor_values = pivot_values.copy()\n",
    "    if color_value != 'None':\n",
    "        data_descriptor_values.remove(color_value) # If a value will be assigned a\n",
    "        # color component in the graph, it doesn't need to be assigned a \n",
    "        # group component, since it will show up in the graph regardless. Removing \n",
    "        # it here helps simplify the graph.\n",
    "    print(data_descriptor_values)   \n",
    "    data_descriptor = df_t5_t4_2018_pivot[data_descriptor_values[0]].copy() # This copy() statement\n",
    "    # is needed in order to avoid  modifying this column when the group column\n",
    "    # gets chosen.\n",
    "    for i in range(1, len(data_descriptor_values)):\n",
    "        data_descriptor += ' ' + df_t5_t4_2018_pivot[data_descriptor_values[i]]\n",
    "\n",
    "df_t5_t4_2018_pivot['Group'] = data_descriptor\n",
    "\n",
    "df_t5_t4_2018_pivot.head(5)"
   ]
  },
  {
   "cell_type": "code",
   "execution_count": null,
   "metadata": {},
   "outputs": [],
   "source": [
    "px.histogram(df_t5_t4_2018_pivot, x = 'Group', y = 'Passengers', color = None if color_value == 'None' else color_value, barmode = 'group')"
   ]
  },
  {
   "cell_type": "markdown",
   "metadata": {},
   "source": [
    "## Creating a bar chart showing the top 20 airports by passenger arrivals in 2018:"
   ]
  },
  {
   "cell_type": "code",
   "execution_count": null,
   "metadata": {},
   "outputs": [],
   "source": [
    "df_top_20_airports = pd.read_csv('top_20_airports_by_pax_arrivals_2018.csv')\n",
    "df_top_20_airports"
   ]
  },
  {
   "cell_type": "code",
   "execution_count": null,
   "metadata": {},
   "outputs": [],
   "source": [
    "top_20_airports_list = list(df_top_20_airports['Airport'].unique())\n",
    "top_20_airports_list"
   ]
  },
  {
   "cell_type": "code",
   "execution_count": null,
   "metadata": {},
   "outputs": [],
   "source": [
    "fig_top_20_airports_2018 = px.bar(df_top_20_airports, x=\"Airport\", y=\"Passengers\")"
   ]
  },
  {
   "cell_type": "code",
   "execution_count": null,
   "metadata": {},
   "outputs": [],
   "source": [
    "fig_top_20_airports_2018"
   ]
  },
  {
   "cell_type": "code",
   "execution_count": null,
   "metadata": {},
   "outputs": [],
   "source": [
    "df_aaa = pd.read_csv('local_copy_of_airports_airlines_aircraft_2018.csv')\n",
    "df_aaa"
   ]
  },
  {
   "cell_type": "code",
   "execution_count": null,
   "metadata": {},
   "outputs": [],
   "source": [
    "# Consider building a graph that lets you pivot by airline name, airport, and plane type and then display the output in both chart form and table form."
   ]
  },
  {
   "cell_type": "code",
   "execution_count": null,
   "metadata": {},
   "outputs": [],
   "source": [
    "# You could also try creating a chart that lets you compare the presence of a given set of airlines (maybe up to 5) for a given set of airports (maybe up to 20. The charts could be either grouped bar charts or stacked bar charts (to show the airline/airport relationship)."
   ]
  },
  {
   "cell_type": "code",
   "execution_count": null,
   "metadata": {},
   "outputs": [],
   "source": [
    "## Top 20 airlines in 2018:\n",
    "\n",
    "df_top_20_airlines = pd.read_csv('top_20_airlines_by_passengers_2018.csv')\n",
    "df_top_20_airlines"
   ]
  },
  {
   "cell_type": "markdown",
   "metadata": {},
   "source": [
    "Creating a list of the top 4 airlines (which will be useful for a later graph):"
   ]
  },
  {
   "cell_type": "code",
   "execution_count": null,
   "metadata": {},
   "outputs": [],
   "source": [
    "top_airlines_list = list(df_top_20_airlines['Airline'][0:4])\n",
    "top_airlines_list"
   ]
  },
  {
   "cell_type": "code",
   "execution_count": null,
   "metadata": {},
   "outputs": [],
   "source": [
    "fig_top_20_airlines_2018 = px.bar(df_top_20_airlines, x=\"Airline\", y=\"Passengers\")\n",
    "fig_top_20_airlines_2018"
   ]
  },
  {
   "cell_type": "code",
   "execution_count": null,
   "metadata": {},
   "outputs": [],
   "source": [
    "df_airline_airport_pairs = pd.read_csv('airport_airline_pairs_2018.csv')\n",
    "df_airline_airport_pairs"
   ]
  },
  {
   "cell_type": "code",
   "execution_count": null,
   "metadata": {},
   "outputs": [],
   "source": [
    "top_airline_list_as_string = (\"|\".join(top_airlines_list)) # Converts the airlines in the list to a string value that the following np.where statement can use to create an 'Other' category of airlines\n",
    "top_airline_list_as_string"
   ]
  },
  {
   "cell_type": "code",
   "execution_count": null,
   "metadata": {},
   "outputs": [],
   "source": [
    "df_airline_airport_pairs"
   ]
  },
  {
   "cell_type": "code",
   "execution_count": null,
   "metadata": {},
   "outputs": [],
   "source": [
    "df_top_airlines_and_airports = df_airline_airport_pairs.query(\"Airport in @top_20_airports_list\").copy().reset_index(drop=True)\n",
    "df_top_airlines_and_airports['Airline'] = np.where(df_top_airlines_and_airports['Airline'].str.contains(top_airline_list_as_string) == False, 'Other', df_top_airlines_and_airports['Airline'])\n",
    "df_top_airlines_and_airports"
   ]
  },
  {
   "cell_type": "code",
   "execution_count": null,
   "metadata": {},
   "outputs": [],
   "source": [
    "df_top_airlines_and_airports = df_top_airlines_and_airports.pivot_table(index = [\"Airline\", \"Airport\"], values = \"Passengers\", aggfunc = \"sum\").reset_index()\n"
   ]
  },
  {
   "cell_type": "code",
   "execution_count": null,
   "metadata": {},
   "outputs": [],
   "source": [
    "df_top_airlines_and_airports['Airline'].value_counts()"
   ]
  },
  {
   "cell_type": "code",
   "execution_count": null,
   "metadata": {},
   "outputs": [],
   "source": [
    "airport_ranks = df_top_20_airports[['Airport', 'Rank']]\n",
    "airport_ranks"
   ]
  },
  {
   "cell_type": "code",
   "execution_count": null,
   "metadata": {},
   "outputs": [],
   "source": [
    "df_top_airlines_and_airports = df_top_airlines_and_airports.merge(airport_ranks, left_on = \"Airport\", right_on = \"Airport\")\n"
   ]
  },
  {
   "cell_type": "code",
   "execution_count": null,
   "metadata": {},
   "outputs": [],
   "source": [
    "df_top_airlines_and_airports.sort_values(\"Rank\", inplace = True)\n",
    "df_top_airlines_and_airports"
   ]
  },
  {
   "cell_type": "markdown",
   "metadata": {},
   "source": [
    "## Top 20 US Airports by Airline Share"
   ]
  },
  {
   "cell_type": "code",
   "execution_count": null,
   "metadata": {},
   "outputs": [],
   "source": [
    "df_top_20_airports"
   ]
  },
  {
   "cell_type": "code",
   "execution_count": null,
   "metadata": {},
   "outputs": [],
   "source": [
    "# Top 20 US Airports by Airline Share:\n",
    "\n",
    "top_airlines_list = list(df_top_20_airlines['Airline'].unique()[0:5])\n",
    "top_airline_list_as_string = (\"|\".join(top_airlines_list)) # Converts the airlines in the list to a string value that the following np.where statement can use to create an 'Other' category of airlines\n",
    "# unique() tags are needed to remove duplicate entries for each airport and\n",
    "# airline. (These duplicates were created through the addition of \n",
    "# domestic/international travel breakdowns for each of the top airports\n",
    "# and airlines.)\n",
    "\n",
    "top_20_airports_list = list(df_top_20_airports['Airport'].unique())\n",
    "print(top_airlines_list, top_20_airports_list)"
   ]
  },
  {
   "cell_type": "code",
   "execution_count": null,
   "metadata": {},
   "outputs": [],
   "source": [
    "df_airline_airport_pairs = pd.read_csv(\"airport_airline_pairs_2018.csv\")\n",
    "\n",
    "\n",
    "df_top_airlines_and_airports = df_airline_airport_pairs.query(\"Airport in @top_20_airports_list\").copy().reset_index(drop=True)\n",
    "df_top_airlines_and_airports['Airline'] = np.where(df_top_airlines_and_airports['Airline'].str.contains(top_airline_list_as_string) == False, 'Other', df_top_airlines_and_airports['Airline'])\n",
    "df_top_airlines_and_airports = df_top_airlines_and_airports.pivot_table(index = [\"Airline\", \"Airport\"], values = \"Passengers\", aggfunc = \"sum\").reset_index()"
   ]
  },
  {
   "cell_type": "code",
   "execution_count": null,
   "metadata": {},
   "outputs": [],
   "source": [
    "list(df_airline_airport_pairs.pivot_table(index = 'Airline', values = 'Passengers', aggfunc = 'sum').sort_values('Passengers', ascending = False).index[0:10])"
   ]
  },
  {
   "cell_type": "code",
   "execution_count": null,
   "metadata": {},
   "outputs": [],
   "source": [
    "df_airline_airport_pairs"
   ]
  },
  {
   "cell_type": "code",
   "execution_count": null,
   "metadata": {},
   "outputs": [],
   "source": [
    "airlines_limit = 5\n",
    "airlines_to_keep = list(df_airline_airport_pairs.pivot_table(index = 'Airline', values = 'Passengers', aggfunc = 'sum').sort_values('Passengers', ascending = False).index[0:airlines_limit])\n",
    "airlines_to_keep"
   ]
  },
  {
   "cell_type": "code",
   "execution_count": null,
   "metadata": {},
   "outputs": [],
   "source": [
    "new_df_airline_airport_pairs = df_airline_airport_pairs.query(\"Airline in @airlines_to_keep\").copy()\n",
    "new_df_airline_airport_pairs"
   ]
  },
  {
   "cell_type": "code",
   "execution_count": null,
   "metadata": {},
   "outputs": [],
   "source": [
    "airport_ranks = df_top_20_airports[['Airport', 'Rank']].drop_duplicates()\n",
    "airport_ranks"
   ]
  },
  {
   "cell_type": "code",
   "execution_count": null,
   "metadata": {},
   "outputs": [],
   "source": [
    "df_top_airlines_and_airports = df_top_airlines_and_airports.merge(airport_ranks, left_on = \"Airport\", right_on = \"Airport\")"
   ]
  },
  {
   "cell_type": "code",
   "execution_count": null,
   "metadata": {},
   "outputs": [],
   "source": [
    "\n",
    "\n",
    "\n",
    "df_top_airlines_and_airports.sort_values(\"Rank\", inplace = True)\n",
    "\n",
    "fig_t4_airline_presence_at_t20_airports = px.bar(df_top_airlines_and_airports, x=\"Airport\", y=\"Passengers\", color=\"Airline\", color_discrete_map=airline_color_map, title=\"Top 20 US Airports by Airline Share in 2018\")\n",
    "fig_t4_airline_presence_at_t20_airports"
   ]
  },
  {
   "cell_type": "code",
   "execution_count": null,
   "metadata": {},
   "outputs": [],
   "source": [
    "df_top_hubs = df_airline_airport_pairs.pivot_table(index = ['Airline', 'Airport'], values = 'Passengers', aggfunc = 'sum').reset_index().sort_values('Passengers', ascending = False)\n",
    "df_top_hubs.head(20)\n",
    "df_top_hubs['Hub'] = df_top_hubs['Airline'] + ' ' + df_top_hubs['Airport']\n",
    "df_top_hubs"
   ]
  },
  {
   "cell_type": "code",
   "execution_count": null,
   "metadata": {},
   "outputs": [],
   "source": [
    "fig_top_hubs = px.bar(df_top_hubs.iloc[0:20, :], x = 'Hub', y = 'Passengers', color = 'Airline', color_discrete_map=airline_color_map)\n",
    "fig_top_hubs.update_xaxes(categoryorder = 'total descending', title = \"Top 20 US Airport Hubs in 2018 by Arriving Passengers\") # See https://plotly.com/python/categorical-axes/"
   ]
  },
  {
   "cell_type": "markdown",
   "metadata": {},
   "source": [
    "## Determining the top international hubs:"
   ]
  },
  {
   "cell_type": "code",
   "execution_count": null,
   "metadata": {},
   "outputs": [],
   "source": [
    "df_top_intl_hubs = df_airline_airport_pairs.query(\"Route_Type == 'International' & Destination_Region == 'Domestic'\").pivot_table(index = ['Airline', 'Airport'], values = 'Passengers', aggfunc = 'sum').reset_index().sort_values('Passengers', ascending = False)\n",
    "# I'd only like to show US airports within this chart, so I chose to filter it to include only domestic airports.\n",
    "df_top_intl_hubs['Hub'] = df_top_intl_hubs['Airline'] + ' ' + df_top_intl_hubs['Airport']\n",
    "df_top_intl_hubs.head(20)"
   ]
  },
  {
   "cell_type": "code",
   "execution_count": null,
   "metadata": {},
   "outputs": [],
   "source": [
    "fig_top_intl_hubs = px.bar(df_top_intl_hubs.iloc[0:20, :], x = 'Hub', y = 'Passengers', color = 'Airline', color_discrete_map=airline_color_map)\n",
    "# fig_top_intl_hubs.update_traces(marker_line=dict(width=1,color='black'))\n",
    "# See https://plotly.com/python/marker-style/\n",
    "fig_top_intl_hubs.update_xaxes(categoryorder = 'total descending', title = \"Top 20 US Airport Hubs in 2018 by Arriving International Passengers\") # See https://plotly.com/python/categorical-axes/"
   ]
  },
  {
   "cell_type": "markdown",
   "metadata": {},
   "source": [
    "# Creating a table of departures for a given airport:"
   ]
  },
  {
   "cell_type": "code",
   "execution_count": null,
   "metadata": {},
   "outputs": [],
   "source": [
    "df_dest_by_origin = pd.read_csv('dest_to_origin_2018.csv')"
   ]
  },
  {
   "cell_type": "code",
   "execution_count": null,
   "metadata": {},
   "outputs": [],
   "source": [
    "def create_departures_table(dest_airport):\n",
    "    df_airport_by_origin = df_dest_by_origin.query(\"Airport == @dest_airport\").sort_values('Passengers', ascending = False).reset_index(drop=True)\n",
    "    if len(df_airport_by_origin) > 20:\n",
    "        other_row = [dest_airport, 'Other', sum(df_airport_by_origin.iloc[20:,]['Passengers'])]\n",
    "        df_airport_by_origin = df_airport_by_origin.iloc[0:20]\n",
    "        df_airport_by_origin.loc[len(df_airport_by_origin)] = other_row\n",
    "    pax_sum = sum(df_airport_by_origin['Passengers'])    \n",
    "    df_airport_by_origin['Share'] = 100*df_airport_by_origin['Passengers'] / pax_sum  \n",
    "    return (df_airport_by_origin)\n"
   ]
  },
  {
   "cell_type": "code",
   "execution_count": null,
   "metadata": {},
   "outputs": [],
   "source": [
    "df_origins_for_airport = create_departures_table('ABQ')\n",
    "df_origins_for_airport"
   ]
  },
  {
   "cell_type": "code",
   "execution_count": null,
   "metadata": {},
   "outputs": [],
   "source": [
    "sum(df_origins_for_airport['Share'])"
   ]
  },
  {
   "cell_type": "code",
   "execution_count": null,
   "metadata": {},
   "outputs": [],
   "source": [
    "df = df_origins_for_airport\n",
    "go.Figure(data=go.Table(\n",
    "    header = dict(\n",
    "        values = list(df.columns)\n",
    "        ), \n",
    "    cells = dict(\n",
    "        values = [df['Airport'], df['Origin'], df['Passengers'], df['Share']] )))"
   ]
  },
  {
   "cell_type": "code",
   "execution_count": null,
   "metadata": {},
   "outputs": [],
   "source": [
    "fig_top_origins_for_airport = px.bar(df_origins_for_airport, x = 'Origin', y = 'Passengers')\n",
    "fig_top_origins_for_airport"
   ]
  },
  {
   "cell_type": "code",
   "execution_count": null,
   "metadata": {},
   "outputs": [],
   "source": []
  }
 ],
 "metadata": {
  "kernelspec": {
   "display_name": "Python 3.10.6 ('kbdashdemo')",
   "language": "python",
   "name": "python3"
  },
  "language_info": {
   "codemirror_mode": {
    "name": "ipython",
    "version": 3
   },
   "file_extension": ".py",
   "mimetype": "text/x-python",
   "name": "python",
   "nbconvert_exporter": "python",
   "pygments_lexer": "ipython3",
   "version": "3.10.6"
  },
  "orig_nbformat": 4,
  "vscode": {
   "interpreter": {
    "hash": "46254542b3191838732012b36afecce351da031400950215516db7deecd8ab49"
   }
  }
 },
 "nbformat": 4,
 "nbformat_minor": 2
}
