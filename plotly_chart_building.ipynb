{
 "cells": [
  {
   "cell_type": "markdown",
   "metadata": {},
   "source": [
    "Jupyter notebook for testing out Plotly graphs. (Once I have the graph code working on this page, I can then add it to my app.py page so that it will get included in my Dash app.)"
   ]
  },
  {
   "cell_type": "code",
   "execution_count": 1,
   "metadata": {},
   "outputs": [],
   "source": [
    "import pandas as pd\n",
    "import plotly.express as px\n",
    "import nbformat\n",
    "import numpy as np\n",
    "import plotly.graph_objects as go"
   ]
  },
  {
   "cell_type": "code",
   "execution_count": 2,
   "metadata": {},
   "outputs": [],
   "source": [
    "airline_color_map = {\n",
    "    \"DL\":\"#E3132C\",\n",
    "    \"UA\":\"#005DAA\",\n",
    "    \"AA\":\"gray\",\n",
    "    \"WN\":\"#F9B612\",\n",
    "    \"AS\":\"green\",\n",
    "    \"B6\":\"#003876\",\n",
    "    \"Other\":\"#804000\"\n",
    "}\n",
    "# See https://plotly.com/python/discrete-color/\n",
    "\n",
    "# RGB color sources:\n",
    "# Delta: Schemecolor at https://www.schemecolor.com/delta-airlines-logo-colors.php\n",
    "# United: Keshav Naidu at https://www.schemecolor.com/united-airlines-logo-blue-color.php\n",
    "# JetBlue: Schemecolor at https://www.schemecolor.com/jetblue-airways-logo-color.php\n",
    "# AA: I had initially used the gray color provided at \n",
    "# https://coloropedia.com/american-airlines-group-colors-logo-codes/ ,\n",
    "# but that proved to be too light, so I chose a generic gray instead.\n",
    "# Southwest (WN): https://www.schemecolor.com/southwest-airlines-logo-colors.php\n",
    "# Color for 'other': https://en.wikipedia.org/wiki/Brown "
   ]
  },
  {
   "cell_type": "markdown",
   "metadata": {},
   "source": [
    "## Creating a more interactive version of the top airports pivot table:"
   ]
  },
  {
   "cell_type": "code",
   "execution_count": 3,
   "metadata": {},
   "outputs": [],
   "source": [
    "df_airline_airport_pairs = pd.read_csv('airport_airline_pairs_2018.csv')\n",
    "all_data_value = 'All_Traffic'\n",
    "df_airline_airport_pairs[all_data_value] = all_data_value"
   ]
  },
  {
   "cell_type": "code",
   "execution_count": 4,
   "metadata": {},
   "outputs": [],
   "source": [
    "airline_color_map = {\n",
    "    \"DL\":\"#E3132C\",\n",
    "    \"UA\":\"#005DAA\",\n",
    "    \"AA\":\"gray\",\n",
    "    \"WN\":\"#F9B612\",\n",
    "    \"AS\":\"green\",\n",
    "    \"B6\":\"#003876\",\n",
    "    \"Other\":\"#804000\"\n",
    "}"
   ]
  },
  {
   "cell_type": "code",
   "execution_count": 5,
   "metadata": {},
   "outputs": [],
   "source": [
    "# top_airports_graph_options = ['show_airline_comparison', 'show_route_type']\n",
    "# top_airports_graph_options = ['show_route_type']\n",
    "top_airports_graph_options = ['show_airline_comparison']\n",
    "# top_airports_graph_options = []\n",
    "\n",
    "\n",
    "top_airports_graph_options\n",
    "number_of_airports_to_show = 20"
   ]
  },
  {
   "cell_type": "code",
   "execution_count": 6,
   "metadata": {},
   "outputs": [
    {
     "data": {
      "text/plain": [
       "'WN|AA|DL|UA'"
      ]
     },
     "execution_count": 6,
     "metadata": {},
     "output_type": "execute_result"
    }
   ],
   "source": [
    "top_airlines = list(df_airline_airport_pairs.pivot_table(index = 'Airline', values = 'Passengers', aggfunc = 'sum').sort_values('Passengers', ascending = False).index[0:4])\n",
    "top_airlines_as_string = (\"|\".join(top_airlines)) # Converts the airlines in the list to a string value that the following np.where statement can use to create an 'Other' category of airlines. # See\n",
    "# https://docs.python.org/3/library/stdtypes.html#str.join\n",
    "top_airlines_as_string"
   ]
  },
  {
   "cell_type": "code",
   "execution_count": 7,
   "metadata": {},
   "outputs": [
    {
     "data": {
      "text/html": [
       "<div>\n",
       "<style scoped>\n",
       "    .dataframe tbody tr th:only-of-type {\n",
       "        vertical-align: middle;\n",
       "    }\n",
       "\n",
       "    .dataframe tbody tr th {\n",
       "        vertical-align: top;\n",
       "    }\n",
       "\n",
       "    .dataframe thead th {\n",
       "        text-align: right;\n",
       "    }\n",
       "</style>\n",
       "<table border=\"1\" class=\"dataframe\">\n",
       "  <thead>\n",
       "    <tr style=\"text-align: right;\">\n",
       "      <th></th>\n",
       "      <th>Airline</th>\n",
       "      <th>Airport</th>\n",
       "      <th>Route_Type</th>\n",
       "      <th>Destination_Region</th>\n",
       "      <th>Passengers</th>\n",
       "      <th>All_Traffic</th>\n",
       "    </tr>\n",
       "  </thead>\n",
       "  <tbody>\n",
       "    <tr>\n",
       "      <th>0</th>\n",
       "      <td>DL</td>\n",
       "      <td>ATL</td>\n",
       "      <td>Domestic</td>\n",
       "      <td>Domestic</td>\n",
       "      <td>30464398.0</td>\n",
       "      <td>All_Traffic</td>\n",
       "    </tr>\n",
       "    <tr>\n",
       "      <th>1</th>\n",
       "      <td>AA</td>\n",
       "      <td>DFW</td>\n",
       "      <td>Domestic</td>\n",
       "      <td>Domestic</td>\n",
       "      <td>19283327.0</td>\n",
       "      <td>All_Traffic</td>\n",
       "    </tr>\n",
       "    <tr>\n",
       "      <th>2</th>\n",
       "      <td>AA</td>\n",
       "      <td>CLT</td>\n",
       "      <td>Domestic</td>\n",
       "      <td>Domestic</td>\n",
       "      <td>12510203.0</td>\n",
       "      <td>All_Traffic</td>\n",
       "    </tr>\n",
       "    <tr>\n",
       "      <th>3</th>\n",
       "      <td>UA</td>\n",
       "      <td>ORD</td>\n",
       "      <td>Domestic</td>\n",
       "      <td>Domestic</td>\n",
       "      <td>10421303.0</td>\n",
       "      <td>All_Traffic</td>\n",
       "    </tr>\n",
       "    <tr>\n",
       "      <th>4</th>\n",
       "      <td>WN</td>\n",
       "      <td>MDW</td>\n",
       "      <td>Domestic</td>\n",
       "      <td>Domestic</td>\n",
       "      <td>9834058.0</td>\n",
       "      <td>All_Traffic</td>\n",
       "    </tr>\n",
       "    <tr>\n",
       "      <th>...</th>\n",
       "      <td>...</td>\n",
       "      <td>...</td>\n",
       "      <td>...</td>\n",
       "      <td>...</td>\n",
       "      <td>...</td>\n",
       "      <td>...</td>\n",
       "    </tr>\n",
       "    <tr>\n",
       "      <th>7933</th>\n",
       "      <td>Other</td>\n",
       "      <td>NRT</td>\n",
       "      <td>International</td>\n",
       "      <td>International</td>\n",
       "      <td>1.0</td>\n",
       "      <td>All_Traffic</td>\n",
       "    </tr>\n",
       "    <tr>\n",
       "      <th>7934</th>\n",
       "      <td>Other</td>\n",
       "      <td>MIA</td>\n",
       "      <td>Domestic</td>\n",
       "      <td>Domestic</td>\n",
       "      <td>1.0</td>\n",
       "      <td>All_Traffic</td>\n",
       "    </tr>\n",
       "    <tr>\n",
       "      <th>7935</th>\n",
       "      <td>Other</td>\n",
       "      <td>CVG</td>\n",
       "      <td>Domestic</td>\n",
       "      <td>Domestic</td>\n",
       "      <td>1.0</td>\n",
       "      <td>All_Traffic</td>\n",
       "    </tr>\n",
       "    <tr>\n",
       "      <th>7936</th>\n",
       "      <td>Other</td>\n",
       "      <td>ORL</td>\n",
       "      <td>Domestic</td>\n",
       "      <td>Domestic</td>\n",
       "      <td>1.0</td>\n",
       "      <td>All_Traffic</td>\n",
       "    </tr>\n",
       "    <tr>\n",
       "      <th>7937</th>\n",
       "      <td>Other</td>\n",
       "      <td>LAS</td>\n",
       "      <td>Domestic</td>\n",
       "      <td>Domestic</td>\n",
       "      <td>1.0</td>\n",
       "      <td>All_Traffic</td>\n",
       "    </tr>\n",
       "  </tbody>\n",
       "</table>\n",
       "<p>7938 rows × 6 columns</p>\n",
       "</div>"
      ],
      "text/plain": [
       "     Airline Airport     Route_Type Destination_Region  Passengers  \\\n",
       "0         DL     ATL       Domestic           Domestic  30464398.0   \n",
       "1         AA     DFW       Domestic           Domestic  19283327.0   \n",
       "2         AA     CLT       Domestic           Domestic  12510203.0   \n",
       "3         UA     ORD       Domestic           Domestic  10421303.0   \n",
       "4         WN     MDW       Domestic           Domestic   9834058.0   \n",
       "...      ...     ...            ...                ...         ...   \n",
       "7933   Other     NRT  International      International         1.0   \n",
       "7934   Other     MIA       Domestic           Domestic         1.0   \n",
       "7935   Other     CVG       Domestic           Domestic         1.0   \n",
       "7936   Other     ORL       Domestic           Domestic         1.0   \n",
       "7937   Other     LAS       Domestic           Domestic         1.0   \n",
       "\n",
       "      All_Traffic  \n",
       "0     All_Traffic  \n",
       "1     All_Traffic  \n",
       "2     All_Traffic  \n",
       "3     All_Traffic  \n",
       "4     All_Traffic  \n",
       "...           ...  \n",
       "7933  All_Traffic  \n",
       "7934  All_Traffic  \n",
       "7935  All_Traffic  \n",
       "7936  All_Traffic  \n",
       "7937  All_Traffic  \n",
       "\n",
       "[7938 rows x 6 columns]"
      ]
     },
     "execution_count": 7,
     "metadata": {},
     "output_type": "execute_result"
    }
   ],
   "source": [
    "df_airline_airport_pairs['Airline'] = np.where(df_airline_airport_pairs['Airline'].str.contains(top_airlines_as_string, regex = True) == False, 'Other', df_airline_airport_pairs['Airline'])\n",
    "# See https://pandas.pydata.org/docs/reference/api/pandas.Series.str.contains.html\n",
    "# regarding the use of the pipe operator here.\n",
    "df_airline_airport_pairs"
   ]
  },
  {
   "cell_type": "code",
   "execution_count": 8,
   "metadata": {},
   "outputs": [
    {
     "name": "stdout",
     "output_type": "stream",
     "text": [
      "['ATL', 'LAX', 'ORD', 'DFW', 'JFK', 'DEN', 'SFO', 'LAS', 'MCO', 'SEA', 'EWR', 'PHX', 'IAH', 'MIA', 'CLT', 'BOS', 'FLL', 'MSP', 'DTW', 'PHL']\n"
     ]
    }
   ],
   "source": [
    "airports_to_keep = list(df_airline_airport_pairs.pivot_table(index = 'Airport', values = 'Passengers', aggfunc = 'sum').sort_values('Passengers', ascending = False).index[0:number_of_airports_to_show])\n",
    "df_airline_airport_pairs_filtered = df_airline_airport_pairs.query(\"Airport in @airports_to_keep\").copy()\n",
    "print(airports_to_keep)"
   ]
  },
  {
   "cell_type": "code",
   "execution_count": 9,
   "metadata": {},
   "outputs": [
    {
     "data": {
      "text/html": [
       "<div>\n",
       "<style scoped>\n",
       "    .dataframe tbody tr th:only-of-type {\n",
       "        vertical-align: middle;\n",
       "    }\n",
       "\n",
       "    .dataframe tbody tr th {\n",
       "        vertical-align: top;\n",
       "    }\n",
       "\n",
       "    .dataframe thead th {\n",
       "        text-align: right;\n",
       "    }\n",
       "</style>\n",
       "<table border=\"1\" class=\"dataframe\">\n",
       "  <thead>\n",
       "    <tr style=\"text-align: right;\">\n",
       "      <th></th>\n",
       "      <th>Airline</th>\n",
       "      <th>Airport</th>\n",
       "      <th>Route_Type</th>\n",
       "      <th>Destination_Region</th>\n",
       "      <th>Passengers</th>\n",
       "      <th>All_Traffic</th>\n",
       "    </tr>\n",
       "  </thead>\n",
       "  <tbody>\n",
       "    <tr>\n",
       "      <th>0</th>\n",
       "      <td>DL</td>\n",
       "      <td>ATL</td>\n",
       "      <td>Domestic</td>\n",
       "      <td>Domestic</td>\n",
       "      <td>30464398.0</td>\n",
       "      <td>All_Traffic</td>\n",
       "    </tr>\n",
       "    <tr>\n",
       "      <th>1</th>\n",
       "      <td>AA</td>\n",
       "      <td>DFW</td>\n",
       "      <td>Domestic</td>\n",
       "      <td>Domestic</td>\n",
       "      <td>19283327.0</td>\n",
       "      <td>All_Traffic</td>\n",
       "    </tr>\n",
       "    <tr>\n",
       "      <th>2</th>\n",
       "      <td>AA</td>\n",
       "      <td>CLT</td>\n",
       "      <td>Domestic</td>\n",
       "      <td>Domestic</td>\n",
       "      <td>12510203.0</td>\n",
       "      <td>All_Traffic</td>\n",
       "    </tr>\n",
       "    <tr>\n",
       "      <th>3</th>\n",
       "      <td>UA</td>\n",
       "      <td>ORD</td>\n",
       "      <td>Domestic</td>\n",
       "      <td>Domestic</td>\n",
       "      <td>10421303.0</td>\n",
       "      <td>All_Traffic</td>\n",
       "    </tr>\n",
       "    <tr>\n",
       "      <th>5</th>\n",
       "      <td>WN</td>\n",
       "      <td>DEN</td>\n",
       "      <td>Domestic</td>\n",
       "      <td>Domestic</td>\n",
       "      <td>9189061.0</td>\n",
       "      <td>All_Traffic</td>\n",
       "    </tr>\n",
       "    <tr>\n",
       "      <th>...</th>\n",
       "      <td>...</td>\n",
       "      <td>...</td>\n",
       "      <td>...</td>\n",
       "      <td>...</td>\n",
       "      <td>...</td>\n",
       "      <td>...</td>\n",
       "    </tr>\n",
       "    <tr>\n",
       "      <th>7928</th>\n",
       "      <td>Other</td>\n",
       "      <td>MSP</td>\n",
       "      <td>Domestic</td>\n",
       "      <td>Domestic</td>\n",
       "      <td>1.0</td>\n",
       "      <td>All_Traffic</td>\n",
       "    </tr>\n",
       "    <tr>\n",
       "      <th>7931</th>\n",
       "      <td>Other</td>\n",
       "      <td>LAX</td>\n",
       "      <td>Domestic</td>\n",
       "      <td>Domestic</td>\n",
       "      <td>1.0</td>\n",
       "      <td>All_Traffic</td>\n",
       "    </tr>\n",
       "    <tr>\n",
       "      <th>7932</th>\n",
       "      <td>Other</td>\n",
       "      <td>MIA</td>\n",
       "      <td>International</td>\n",
       "      <td>Domestic</td>\n",
       "      <td>1.0</td>\n",
       "      <td>All_Traffic</td>\n",
       "    </tr>\n",
       "    <tr>\n",
       "      <th>7934</th>\n",
       "      <td>Other</td>\n",
       "      <td>MIA</td>\n",
       "      <td>Domestic</td>\n",
       "      <td>Domestic</td>\n",
       "      <td>1.0</td>\n",
       "      <td>All_Traffic</td>\n",
       "    </tr>\n",
       "    <tr>\n",
       "      <th>7937</th>\n",
       "      <td>Other</td>\n",
       "      <td>LAS</td>\n",
       "      <td>Domestic</td>\n",
       "      <td>Domestic</td>\n",
       "      <td>1.0</td>\n",
       "      <td>All_Traffic</td>\n",
       "    </tr>\n",
       "  </tbody>\n",
       "</table>\n",
       "<p>1677 rows × 6 columns</p>\n",
       "</div>"
      ],
      "text/plain": [
       "     Airline Airport     Route_Type Destination_Region  Passengers  \\\n",
       "0         DL     ATL       Domestic           Domestic  30464398.0   \n",
       "1         AA     DFW       Domestic           Domestic  19283327.0   \n",
       "2         AA     CLT       Domestic           Domestic  12510203.0   \n",
       "3         UA     ORD       Domestic           Domestic  10421303.0   \n",
       "5         WN     DEN       Domestic           Domestic   9189061.0   \n",
       "...      ...     ...            ...                ...         ...   \n",
       "7928   Other     MSP       Domestic           Domestic         1.0   \n",
       "7931   Other     LAX       Domestic           Domestic         1.0   \n",
       "7932   Other     MIA  International           Domestic         1.0   \n",
       "7934   Other     MIA       Domestic           Domestic         1.0   \n",
       "7937   Other     LAS       Domestic           Domestic         1.0   \n",
       "\n",
       "      All_Traffic  \n",
       "0     All_Traffic  \n",
       "1     All_Traffic  \n",
       "2     All_Traffic  \n",
       "3     All_Traffic  \n",
       "5     All_Traffic  \n",
       "...           ...  \n",
       "7928  All_Traffic  \n",
       "7931  All_Traffic  \n",
       "7932  All_Traffic  \n",
       "7934  All_Traffic  \n",
       "7937  All_Traffic  \n",
       "\n",
       "[1677 rows x 6 columns]"
      ]
     },
     "execution_count": 9,
     "metadata": {},
     "output_type": "execute_result"
    }
   ],
   "source": [
    "df_airline_airport_pairs_filtered"
   ]
  },
  {
   "cell_type": "code",
   "execution_count": 10,
   "metadata": {},
   "outputs": [
    {
     "data": {
      "text/html": [
       "<div>\n",
       "<style scoped>\n",
       "    .dataframe tbody tr th:only-of-type {\n",
       "        vertical-align: middle;\n",
       "    }\n",
       "\n",
       "    .dataframe tbody tr th {\n",
       "        vertical-align: top;\n",
       "    }\n",
       "\n",
       "    .dataframe thead th {\n",
       "        text-align: right;\n",
       "    }\n",
       "</style>\n",
       "<table border=\"1\" class=\"dataframe\">\n",
       "  <thead>\n",
       "    <tr style=\"text-align: right;\">\n",
       "      <th></th>\n",
       "      <th>Airport</th>\n",
       "      <th>Airline</th>\n",
       "      <th>Passengers</th>\n",
       "    </tr>\n",
       "  </thead>\n",
       "  <tbody>\n",
       "    <tr>\n",
       "      <th>0</th>\n",
       "      <td>ATL</td>\n",
       "      <td>AA</td>\n",
       "      <td>1272128.0</td>\n",
       "    </tr>\n",
       "    <tr>\n",
       "      <th>1</th>\n",
       "      <td>ATL</td>\n",
       "      <td>DL</td>\n",
       "      <td>35049728.0</td>\n",
       "    </tr>\n",
       "    <tr>\n",
       "      <th>2</th>\n",
       "      <td>ATL</td>\n",
       "      <td>Other</td>\n",
       "      <td>5406930.0</td>\n",
       "    </tr>\n",
       "    <tr>\n",
       "      <th>3</th>\n",
       "      <td>ATL</td>\n",
       "      <td>UA</td>\n",
       "      <td>566751.0</td>\n",
       "    </tr>\n",
       "    <tr>\n",
       "      <th>4</th>\n",
       "      <td>ATL</td>\n",
       "      <td>WN</td>\n",
       "      <td>5093338.0</td>\n",
       "    </tr>\n",
       "    <tr>\n",
       "      <th>...</th>\n",
       "      <td>...</td>\n",
       "      <td>...</td>\n",
       "      <td>...</td>\n",
       "    </tr>\n",
       "    <tr>\n",
       "      <th>93</th>\n",
       "      <td>SFO</td>\n",
       "      <td>AA</td>\n",
       "      <td>1889883.0</td>\n",
       "    </tr>\n",
       "    <tr>\n",
       "      <th>94</th>\n",
       "      <td>SFO</td>\n",
       "      <td>DL</td>\n",
       "      <td>2030302.0</td>\n",
       "    </tr>\n",
       "    <tr>\n",
       "      <th>95</th>\n",
       "      <td>SFO</td>\n",
       "      <td>Other</td>\n",
       "      <td>10808991.0</td>\n",
       "    </tr>\n",
       "    <tr>\n",
       "      <th>96</th>\n",
       "      <td>SFO</td>\n",
       "      <td>UA</td>\n",
       "      <td>10382658.0</td>\n",
       "    </tr>\n",
       "    <tr>\n",
       "      <th>97</th>\n",
       "      <td>SFO</td>\n",
       "      <td>WN</td>\n",
       "      <td>1862999.0</td>\n",
       "    </tr>\n",
       "  </tbody>\n",
       "</table>\n",
       "<p>98 rows × 3 columns</p>\n",
       "</div>"
      ],
      "text/plain": [
       "   Airport Airline  Passengers\n",
       "0      ATL      AA   1272128.0\n",
       "1      ATL      DL  35049728.0\n",
       "2      ATL   Other   5406930.0\n",
       "3      ATL      UA    566751.0\n",
       "4      ATL      WN   5093338.0\n",
       "..     ...     ...         ...\n",
       "93     SFO      AA   1889883.0\n",
       "94     SFO      DL   2030302.0\n",
       "95     SFO   Other  10808991.0\n",
       "96     SFO      UA  10382658.0\n",
       "97     SFO      WN   1862999.0\n",
       "\n",
       "[98 rows x 3 columns]"
      ]
     },
     "execution_count": 10,
     "metadata": {},
     "output_type": "execute_result"
    }
   ],
   "source": [
    "# The following code creates a pivot table based on the parameters specified above.\n",
    "\n",
    "pivot_values = ['Airport']\n",
    "\n",
    "if 'show_airline_comparison' in top_airports_graph_options:\n",
    "    pivot_values.append('Airline')\n",
    "\n",
    "if 'show_route_type' in top_airports_graph_options:\n",
    "    pivot_values.append('Route_Type')\n",
    "\n",
    "df_airline_airport_pairs_filtered_pivot = df_airline_airport_pairs_filtered.pivot_table(index = pivot_values,\n",
    "values = 'Passengers', aggfunc = 'sum').reset_index()\n",
    "df_airline_airport_pairs_filtered_pivot\n",
    "\n",
    "if ('show_airline_comparison' in top_airports_graph_options) and ('show_route_type' in top_airports_graph_options):\n",
    "    df_airline_airport_pairs_filtered_pivot['Airport_Route_Pair'] = df_airline_airport_pairs_filtered_pivot['Airport'] + ' ' + df_airline_airport_pairs_filtered_pivot['Route_Type']\n",
    "\n",
    "df_airline_airport_pairs_filtered_pivot\n"
   ]
  },
  {
   "cell_type": "code",
   "execution_count": 11,
   "metadata": {},
   "outputs": [
    {
     "data": {
      "application/vnd.plotly.v1+json": {
       "config": {
        "plotlyServerURL": "https://plot.ly"
       },
       "data": [
        {
         "alignmentgroup": "True",
         "bingroup": "x",
         "histfunc": "sum",
         "hovertemplate": "Airline=AA<br>Airport=%{x}<br>sum of Passengers=%{y}<extra></extra>",
         "legendgroup": "AA",
         "marker": {
          "color": "#636efa",
          "pattern": {
           "shape": ""
          }
         },
         "name": "AA",
         "offsetgroup": "AA",
         "orientation": "v",
         "showlegend": true,
         "type": "histogram",
         "x": [
          "ATL",
          "BOS",
          "CLT",
          "DEN",
          "DFW",
          "DTW",
          "EWR",
          "FLL",
          "IAH",
          "JFK",
          "LAS",
          "LAX",
          "MCO",
          "MIA",
          "MSP",
          "ORD",
          "PHL",
          "PHX",
          "SEA",
          "SFO"
         ],
         "xaxis": "x",
         "y": [
          1272128,
          3279765,
          13853081,
          1530533,
          21814244,
          628126,
          1006776,
          988323,
          909433,
          3007541,
          2159213,
          6614983,
          2679818,
          12595599,
          885289,
          9364738,
          7463574,
          8066428,
          1259516,
          1889883
         ],
         "yaxis": "y"
        },
        {
         "alignmentgroup": "True",
         "bingroup": "x",
         "histfunc": "sum",
         "hovertemplate": "Airline=DL<br>Airport=%{x}<br>sum of Passengers=%{y}<extra></extra>",
         "legendgroup": "DL",
         "marker": {
          "color": "#EF553B",
          "pattern": {
           "shape": ""
          }
         },
         "name": "DL",
         "offsetgroup": "DL",
         "orientation": "v",
         "showlegend": true,
         "type": "histogram",
         "x": [
          "ATL",
          "BOS",
          "CLT",
          "DEN",
          "DFW",
          "DTW",
          "EWR",
          "FLL",
          "IAH",
          "JFK",
          "LAS",
          "LAX",
          "MCO",
          "MIA",
          "MSP",
          "ORD",
          "PHL",
          "PHX",
          "SEA",
          "SFO"
         ],
         "xaxis": "x",
         "y": [
          35049728,
          2639358,
          560127,
          1602374,
          815257,
          8395710,
          663271,
          1680324,
          389529,
          6703119,
          1991979,
          5962435,
          3177310,
          1292802,
          9405337,
          1045316,
          815566,
          1215973,
          4141351,
          2030302
         ],
         "yaxis": "y"
        },
        {
         "alignmentgroup": "True",
         "bingroup": "x",
         "histfunc": "sum",
         "hovertemplate": "Airline=Other<br>Airport=%{x}<br>sum of Passengers=%{y}<extra></extra>",
         "legendgroup": "Other",
         "marker": {
          "color": "#00cc96",
          "pattern": {
           "shape": ""
          }
         },
         "name": "Other",
         "offsetgroup": "Other",
         "orientation": "v",
         "showlegend": true,
         "type": "histogram",
         "x": [
          "ATL",
          "BOS",
          "CLT",
          "DEN",
          "DFW",
          "DTW",
          "EWR",
          "FLL",
          "IAH",
          "JFK",
          "LAS",
          "LAX",
          "MCO",
          "MIA",
          "MSP",
          "ORD",
          "PHL",
          "PHX",
          "SEA",
          "SFO"
         ],
         "xaxis": "x",
         "y": [
          5406930,
          10576764,
          5240072,
          7961784,
          7432231,
          6030097,
          8037987,
          9989580,
          8046213,
          20034066,
          8464976,
          18723098,
          9881498,
          6115994,
          5272957,
          14008041,
          4781501,
          3382485,
          14078880,
          10808991
         ],
         "yaxis": "y"
        },
        {
         "alignmentgroup": "True",
         "bingroup": "x",
         "histfunc": "sum",
         "hovertemplate": "Airline=UA<br>Airport=%{x}<br>sum of Passengers=%{y}<extra></extra>",
         "legendgroup": "UA",
         "marker": {
          "color": "#ab63fa",
          "pattern": {
           "shape": ""
          }
         },
         "name": "UA",
         "offsetgroup": "UA",
         "orientation": "v",
         "showlegend": true,
         "type": "histogram",
         "x": [
          "ATL",
          "BOS",
          "CLT",
          "DEN",
          "DFW",
          "DTW",
          "EWR",
          "FLL",
          "IAH",
          "JFK",
          "LAS",
          "LAX",
          "MCO",
          "MIA",
          "MSP",
          "ORD",
          "PHL",
          "PHX",
          "SEA",
          "SFO"
         ],
         "xaxis": "x",
         "y": [
          566751,
          1974123,
          108522,
          9091011,
          761785,
          186644,
          11580362,
          1069805,
          11459058,
          215,
          1932434,
          5102202,
          1976599,
          629703,
          461981,
          12153983,
          542981,
          1044371,
          1490451,
          10382658
         ],
         "yaxis": "y"
        },
        {
         "alignmentgroup": "True",
         "bingroup": "x",
         "histfunc": "sum",
         "hovertemplate": "Airline=WN<br>Airport=%{x}<br>sum of Passengers=%{y}<extra></extra>",
         "legendgroup": "WN",
         "marker": {
          "color": "#FFA15A",
          "pattern": {
           "shape": ""
          }
         },
         "name": "WN",
         "offsetgroup": "WN",
         "orientation": "v",
         "showlegend": true,
         "type": "histogram",
         "x": [
          "ATL",
          "BOS",
          "CLT",
          "DEN",
          "DFW",
          "DTW",
          "EWR",
          "FLL",
          "IAH",
          "LAS",
          "LAX",
          "MCO",
          "MSP",
          "ORD",
          "PHL",
          "PHX",
          "SEA",
          "SFO"
         ],
         "xaxis": "x",
         "y": [
          5093338,
          1455151,
          346711,
          9341831,
          234,
          826542,
          800757,
          3770336,
          276,
          8963047,
          5100110,
          5463188,
          991057,
          129,
          1117445,
          7679236,
          1588268,
          1862999
         ],
         "yaxis": "y"
        }
       ],
       "layout": {
        "barmode": "relative",
        "legend": {
         "title": {
          "text": "Airline"
         },
         "tracegroupgap": 0
        },
        "margin": {
         "t": 60
        },
        "template": {
         "data": {
          "bar": [
           {
            "error_x": {
             "color": "#2a3f5f"
            },
            "error_y": {
             "color": "#2a3f5f"
            },
            "marker": {
             "line": {
              "color": "#E5ECF6",
              "width": 0.5
             },
             "pattern": {
              "fillmode": "overlay",
              "size": 10,
              "solidity": 0.2
             }
            },
            "type": "bar"
           }
          ],
          "barpolar": [
           {
            "marker": {
             "line": {
              "color": "#E5ECF6",
              "width": 0.5
             },
             "pattern": {
              "fillmode": "overlay",
              "size": 10,
              "solidity": 0.2
             }
            },
            "type": "barpolar"
           }
          ],
          "carpet": [
           {
            "aaxis": {
             "endlinecolor": "#2a3f5f",
             "gridcolor": "white",
             "linecolor": "white",
             "minorgridcolor": "white",
             "startlinecolor": "#2a3f5f"
            },
            "baxis": {
             "endlinecolor": "#2a3f5f",
             "gridcolor": "white",
             "linecolor": "white",
             "minorgridcolor": "white",
             "startlinecolor": "#2a3f5f"
            },
            "type": "carpet"
           }
          ],
          "choropleth": [
           {
            "colorbar": {
             "outlinewidth": 0,
             "ticks": ""
            },
            "type": "choropleth"
           }
          ],
          "contour": [
           {
            "colorbar": {
             "outlinewidth": 0,
             "ticks": ""
            },
            "colorscale": [
             [
              0,
              "#0d0887"
             ],
             [
              0.1111111111111111,
              "#46039f"
             ],
             [
              0.2222222222222222,
              "#7201a8"
             ],
             [
              0.3333333333333333,
              "#9c179e"
             ],
             [
              0.4444444444444444,
              "#bd3786"
             ],
             [
              0.5555555555555556,
              "#d8576b"
             ],
             [
              0.6666666666666666,
              "#ed7953"
             ],
             [
              0.7777777777777778,
              "#fb9f3a"
             ],
             [
              0.8888888888888888,
              "#fdca26"
             ],
             [
              1,
              "#f0f921"
             ]
            ],
            "type": "contour"
           }
          ],
          "contourcarpet": [
           {
            "colorbar": {
             "outlinewidth": 0,
             "ticks": ""
            },
            "type": "contourcarpet"
           }
          ],
          "heatmap": [
           {
            "colorbar": {
             "outlinewidth": 0,
             "ticks": ""
            },
            "colorscale": [
             [
              0,
              "#0d0887"
             ],
             [
              0.1111111111111111,
              "#46039f"
             ],
             [
              0.2222222222222222,
              "#7201a8"
             ],
             [
              0.3333333333333333,
              "#9c179e"
             ],
             [
              0.4444444444444444,
              "#bd3786"
             ],
             [
              0.5555555555555556,
              "#d8576b"
             ],
             [
              0.6666666666666666,
              "#ed7953"
             ],
             [
              0.7777777777777778,
              "#fb9f3a"
             ],
             [
              0.8888888888888888,
              "#fdca26"
             ],
             [
              1,
              "#f0f921"
             ]
            ],
            "type": "heatmap"
           }
          ],
          "heatmapgl": [
           {
            "colorbar": {
             "outlinewidth": 0,
             "ticks": ""
            },
            "colorscale": [
             [
              0,
              "#0d0887"
             ],
             [
              0.1111111111111111,
              "#46039f"
             ],
             [
              0.2222222222222222,
              "#7201a8"
             ],
             [
              0.3333333333333333,
              "#9c179e"
             ],
             [
              0.4444444444444444,
              "#bd3786"
             ],
             [
              0.5555555555555556,
              "#d8576b"
             ],
             [
              0.6666666666666666,
              "#ed7953"
             ],
             [
              0.7777777777777778,
              "#fb9f3a"
             ],
             [
              0.8888888888888888,
              "#fdca26"
             ],
             [
              1,
              "#f0f921"
             ]
            ],
            "type": "heatmapgl"
           }
          ],
          "histogram": [
           {
            "marker": {
             "pattern": {
              "fillmode": "overlay",
              "size": 10,
              "solidity": 0.2
             }
            },
            "type": "histogram"
           }
          ],
          "histogram2d": [
           {
            "colorbar": {
             "outlinewidth": 0,
             "ticks": ""
            },
            "colorscale": [
             [
              0,
              "#0d0887"
             ],
             [
              0.1111111111111111,
              "#46039f"
             ],
             [
              0.2222222222222222,
              "#7201a8"
             ],
             [
              0.3333333333333333,
              "#9c179e"
             ],
             [
              0.4444444444444444,
              "#bd3786"
             ],
             [
              0.5555555555555556,
              "#d8576b"
             ],
             [
              0.6666666666666666,
              "#ed7953"
             ],
             [
              0.7777777777777778,
              "#fb9f3a"
             ],
             [
              0.8888888888888888,
              "#fdca26"
             ],
             [
              1,
              "#f0f921"
             ]
            ],
            "type": "histogram2d"
           }
          ],
          "histogram2dcontour": [
           {
            "colorbar": {
             "outlinewidth": 0,
             "ticks": ""
            },
            "colorscale": [
             [
              0,
              "#0d0887"
             ],
             [
              0.1111111111111111,
              "#46039f"
             ],
             [
              0.2222222222222222,
              "#7201a8"
             ],
             [
              0.3333333333333333,
              "#9c179e"
             ],
             [
              0.4444444444444444,
              "#bd3786"
             ],
             [
              0.5555555555555556,
              "#d8576b"
             ],
             [
              0.6666666666666666,
              "#ed7953"
             ],
             [
              0.7777777777777778,
              "#fb9f3a"
             ],
             [
              0.8888888888888888,
              "#fdca26"
             ],
             [
              1,
              "#f0f921"
             ]
            ],
            "type": "histogram2dcontour"
           }
          ],
          "mesh3d": [
           {
            "colorbar": {
             "outlinewidth": 0,
             "ticks": ""
            },
            "type": "mesh3d"
           }
          ],
          "parcoords": [
           {
            "line": {
             "colorbar": {
              "outlinewidth": 0,
              "ticks": ""
             }
            },
            "type": "parcoords"
           }
          ],
          "pie": [
           {
            "automargin": true,
            "type": "pie"
           }
          ],
          "scatter": [
           {
            "fillpattern": {
             "fillmode": "overlay",
             "size": 10,
             "solidity": 0.2
            },
            "type": "scatter"
           }
          ],
          "scatter3d": [
           {
            "line": {
             "colorbar": {
              "outlinewidth": 0,
              "ticks": ""
             }
            },
            "marker": {
             "colorbar": {
              "outlinewidth": 0,
              "ticks": ""
             }
            },
            "type": "scatter3d"
           }
          ],
          "scattercarpet": [
           {
            "marker": {
             "colorbar": {
              "outlinewidth": 0,
              "ticks": ""
             }
            },
            "type": "scattercarpet"
           }
          ],
          "scattergeo": [
           {
            "marker": {
             "colorbar": {
              "outlinewidth": 0,
              "ticks": ""
             }
            },
            "type": "scattergeo"
           }
          ],
          "scattergl": [
           {
            "marker": {
             "colorbar": {
              "outlinewidth": 0,
              "ticks": ""
             }
            },
            "type": "scattergl"
           }
          ],
          "scattermapbox": [
           {
            "marker": {
             "colorbar": {
              "outlinewidth": 0,
              "ticks": ""
             }
            },
            "type": "scattermapbox"
           }
          ],
          "scatterpolar": [
           {
            "marker": {
             "colorbar": {
              "outlinewidth": 0,
              "ticks": ""
             }
            },
            "type": "scatterpolar"
           }
          ],
          "scatterpolargl": [
           {
            "marker": {
             "colorbar": {
              "outlinewidth": 0,
              "ticks": ""
             }
            },
            "type": "scatterpolargl"
           }
          ],
          "scatterternary": [
           {
            "marker": {
             "colorbar": {
              "outlinewidth": 0,
              "ticks": ""
             }
            },
            "type": "scatterternary"
           }
          ],
          "surface": [
           {
            "colorbar": {
             "outlinewidth": 0,
             "ticks": ""
            },
            "colorscale": [
             [
              0,
              "#0d0887"
             ],
             [
              0.1111111111111111,
              "#46039f"
             ],
             [
              0.2222222222222222,
              "#7201a8"
             ],
             [
              0.3333333333333333,
              "#9c179e"
             ],
             [
              0.4444444444444444,
              "#bd3786"
             ],
             [
              0.5555555555555556,
              "#d8576b"
             ],
             [
              0.6666666666666666,
              "#ed7953"
             ],
             [
              0.7777777777777778,
              "#fb9f3a"
             ],
             [
              0.8888888888888888,
              "#fdca26"
             ],
             [
              1,
              "#f0f921"
             ]
            ],
            "type": "surface"
           }
          ],
          "table": [
           {
            "cells": {
             "fill": {
              "color": "#EBF0F8"
             },
             "line": {
              "color": "white"
             }
            },
            "header": {
             "fill": {
              "color": "#C8D4E3"
             },
             "line": {
              "color": "white"
             }
            },
            "type": "table"
           }
          ]
         },
         "layout": {
          "annotationdefaults": {
           "arrowcolor": "#2a3f5f",
           "arrowhead": 0,
           "arrowwidth": 1
          },
          "autotypenumbers": "strict",
          "coloraxis": {
           "colorbar": {
            "outlinewidth": 0,
            "ticks": ""
           }
          },
          "colorscale": {
           "diverging": [
            [
             0,
             "#8e0152"
            ],
            [
             0.1,
             "#c51b7d"
            ],
            [
             0.2,
             "#de77ae"
            ],
            [
             0.3,
             "#f1b6da"
            ],
            [
             0.4,
             "#fde0ef"
            ],
            [
             0.5,
             "#f7f7f7"
            ],
            [
             0.6,
             "#e6f5d0"
            ],
            [
             0.7,
             "#b8e186"
            ],
            [
             0.8,
             "#7fbc41"
            ],
            [
             0.9,
             "#4d9221"
            ],
            [
             1,
             "#276419"
            ]
           ],
           "sequential": [
            [
             0,
             "#0d0887"
            ],
            [
             0.1111111111111111,
             "#46039f"
            ],
            [
             0.2222222222222222,
             "#7201a8"
            ],
            [
             0.3333333333333333,
             "#9c179e"
            ],
            [
             0.4444444444444444,
             "#bd3786"
            ],
            [
             0.5555555555555556,
             "#d8576b"
            ],
            [
             0.6666666666666666,
             "#ed7953"
            ],
            [
             0.7777777777777778,
             "#fb9f3a"
            ],
            [
             0.8888888888888888,
             "#fdca26"
            ],
            [
             1,
             "#f0f921"
            ]
           ],
           "sequentialminus": [
            [
             0,
             "#0d0887"
            ],
            [
             0.1111111111111111,
             "#46039f"
            ],
            [
             0.2222222222222222,
             "#7201a8"
            ],
            [
             0.3333333333333333,
             "#9c179e"
            ],
            [
             0.4444444444444444,
             "#bd3786"
            ],
            [
             0.5555555555555556,
             "#d8576b"
            ],
            [
             0.6666666666666666,
             "#ed7953"
            ],
            [
             0.7777777777777778,
             "#fb9f3a"
            ],
            [
             0.8888888888888888,
             "#fdca26"
            ],
            [
             1,
             "#f0f921"
            ]
           ]
          },
          "colorway": [
           "#636efa",
           "#EF553B",
           "#00cc96",
           "#ab63fa",
           "#FFA15A",
           "#19d3f3",
           "#FF6692",
           "#B6E880",
           "#FF97FF",
           "#FECB52"
          ],
          "font": {
           "color": "#2a3f5f"
          },
          "geo": {
           "bgcolor": "white",
           "lakecolor": "white",
           "landcolor": "#E5ECF6",
           "showlakes": true,
           "showland": true,
           "subunitcolor": "white"
          },
          "hoverlabel": {
           "align": "left"
          },
          "hovermode": "closest",
          "mapbox": {
           "style": "light"
          },
          "paper_bgcolor": "white",
          "plot_bgcolor": "#E5ECF6",
          "polar": {
           "angularaxis": {
            "gridcolor": "white",
            "linecolor": "white",
            "ticks": ""
           },
           "bgcolor": "#E5ECF6",
           "radialaxis": {
            "gridcolor": "white",
            "linecolor": "white",
            "ticks": ""
           }
          },
          "scene": {
           "xaxis": {
            "backgroundcolor": "#E5ECF6",
            "gridcolor": "white",
            "gridwidth": 2,
            "linecolor": "white",
            "showbackground": true,
            "ticks": "",
            "zerolinecolor": "white"
           },
           "yaxis": {
            "backgroundcolor": "#E5ECF6",
            "gridcolor": "white",
            "gridwidth": 2,
            "linecolor": "white",
            "showbackground": true,
            "ticks": "",
            "zerolinecolor": "white"
           },
           "zaxis": {
            "backgroundcolor": "#E5ECF6",
            "gridcolor": "white",
            "gridwidth": 2,
            "linecolor": "white",
            "showbackground": true,
            "ticks": "",
            "zerolinecolor": "white"
           }
          },
          "shapedefaults": {
           "line": {
            "color": "#2a3f5f"
           }
          },
          "ternary": {
           "aaxis": {
            "gridcolor": "white",
            "linecolor": "white",
            "ticks": ""
           },
           "baxis": {
            "gridcolor": "white",
            "linecolor": "white",
            "ticks": ""
           },
           "bgcolor": "#E5ECF6",
           "caxis": {
            "gridcolor": "white",
            "linecolor": "white",
            "ticks": ""
           }
          },
          "title": {
           "x": 0.05
          },
          "xaxis": {
           "automargin": true,
           "gridcolor": "white",
           "linecolor": "white",
           "ticks": "",
           "title": {
            "standoff": 15
           },
           "zerolinecolor": "white",
           "zerolinewidth": 2
          },
          "yaxis": {
           "automargin": true,
           "gridcolor": "white",
           "linecolor": "white",
           "ticks": "",
           "title": {
            "standoff": 15
           },
           "zerolinecolor": "white",
           "zerolinewidth": 2
          }
         }
        },
        "xaxis": {
         "anchor": "y",
         "domain": [
          0,
          1
         ],
         "title": {
          "text": "Airport"
         }
        },
        "yaxis": {
         "anchor": "x",
         "domain": [
          0,
          1
         ],
         "title": {
          "text": "sum of Passengers"
         }
        }
       }
      }
     },
     "metadata": {},
     "output_type": "display_data"
    }
   ],
   "source": [
    "# Since there are two different top_airports_graph_options items that\n",
    "# can be chosen, there are in turn four possible graphs that can be created. \n",
    "# Thus, the following code creates four separate bar charts.\n",
    "\n",
    "if ('show_airline_comparison' in top_airports_graph_options) and ('show_route_type' in top_airports_graph_options):\n",
    "\n",
    "    x_val = 'Airport_Route_Pair'\n",
    "    color_val = 'Airline'\n",
    "\n",
    "if top_airports_graph_options == ['show_airline_comparison']:\n",
    "    color_val = 'Airline'\n",
    "    x_val = 'Airport'\n",
    "\n",
    "if top_airports_graph_options == ['show_route_type']:\n",
    "    color_val = 'Route_Type'\n",
    "    x_val = 'Airport'\n",
    "\n",
    "if top_airports_graph_options == []:\n",
    "    color_val = 'Airport'\n",
    "    x_val = 'Airport'\n",
    "\n",
    "top_airports_graph = px.histogram(df_airline_airport_pairs_filtered_pivot, x = x_val, y = 'Passengers', color = color_val)\n",
    "\n",
    "top_airports_graph"
   ]
  },
  {
   "cell_type": "markdown",
   "metadata": {},
   "source": [
    "## Creating a pivot table that shows all grouped rows:"
   ]
  },
  {
   "cell_type": "code",
   "execution_count": null,
   "metadata": {},
   "outputs": [],
   "source": [
    "sample_list = ['Airline', 'Route_Type']\n"
   ]
  },
  {
   "cell_type": "code",
   "execution_count": null,
   "metadata": {},
   "outputs": [],
   "source": [
    "sample_list = ['Route_Type' if entry == 'Route_Type' else entry for entry in sample_list]\n",
    "sample_list"
   ]
  },
  {
   "cell_type": "code",
   "execution_count": null,
   "metadata": {},
   "outputs": [],
   "source": [
    "all_data_value = 'All_Traffic'\n",
    "df_t5_t4_2018 = pd.read_csv('t5_airports_t4_airlines_2018.csv')\n",
    "df_t5_t4_2018[all_data_value] = all_data_value # This column will allow\n",
    "# the code to show all values when no pivot value is selected.\n",
    "df_t5_t4_2018.head(5)"
   ]
  },
  {
   "cell_type": "markdown",
   "metadata": {},
   "source": [
    "## Method that creates a group for every column:"
   ]
  },
  {
   "cell_type": "code",
   "execution_count": null,
   "metadata": {},
   "outputs": [],
   "source": [
    "pivot_values = ['Airline', 'Airport', 'Route_Type']\n",
    "color_value = ['Airport']\n",
    "group_value = ['Airline']\n",
    "if len(pivot_values) == 0:\n",
    "    df_t5_t4_2018_pivot = df_t5_t4_2018.pivot_table(index = 'All_Traffic', values = 'Passengers', aggfunc = 'sum').reset_index()\n",
    "else:\n",
    "    df_t5_t4_2018_pivot = df_t5_t4_2018.pivot_table(index = pivot_values, values = 'Passengers', aggfunc = 'sum').reset_index()\n",
    "\n",
    "# The following lines create a column containing the values of each of the\n",
    "# columns (other than the 'Passengers') column present in the bar chart. A\n",
    "# for loop is used so that this column can adapt to different variable\n",
    "# choices and different numbers of columns.\n",
    "data_descriptor = df_t5_t4_2018_pivot.iloc[:,0].copy() # This copy() statement\n",
    "# is needed in order to avoid  modifying this column when the group column\n",
    "# gets chosen.\n",
    "for i in range(1, len(df_t5_t4_2018_pivot.columns) - 1):\n",
    "    data_descriptor += ' ' + df_t5_t4_2018_pivot.iloc[:, i]\n",
    "\n",
    "df_t5_t4_2018_pivot['Group'] = data_descriptor\n",
    "\n",
    "df_t5_t4_2018_pivot.head(5)"
   ]
  },
  {
   "cell_type": "code",
   "execution_count": null,
   "metadata": {},
   "outputs": [],
   "source": [
    "# Group/color example:\n",
    "px.histogram(df_t5_t4_2018_pivot, x = 'Airport', y = 'Passengers', color = 'Airline', barmode = 'group')"
   ]
  },
  {
   "cell_type": "code",
   "execution_count": null,
   "metadata": {},
   "outputs": [],
   "source": [
    "px.histogram(df_t5_t4_2018_pivot, x = 'Group', y = 'Passengers', color = 'Airline')"
   ]
  },
  {
   "cell_type": "code",
   "execution_count": null,
   "metadata": {},
   "outputs": [],
   "source": [
    "px.histogram(df_t5_t4_2018_pivot, x = 'Airport', y = 'Passengers', color = 'Airline', barmode = 'group')"
   ]
  },
  {
   "cell_type": "markdown",
   "metadata": {},
   "source": [
    "## Method that only creates a group for columns not present in the color section:\n",
    "\n",
    "I think I'l still need to plot the group column, but I can simplify it by removing the color column value from it."
   ]
  },
  {
   "cell_type": "code",
   "execution_count": null,
   "metadata": {},
   "outputs": [],
   "source": [
    "# The following code creates a pivot table version of the DataFrame that \n",
    "# can be used for creating bar charts. It takes the specified pivot values\n",
    "# and color values as inputs, and then uses those values to group the\n",
    "# data accordingly. The code works with different numbers of pivot values,\n",
    "# including zero pivot values.\n",
    "# In order to represent all of the specified values, the code creates a \n",
    "# column describing all (or almost all) of the pivot index variables\n",
    "# in the other columns, which then gets fed \n",
    "# into the x axis parameter of the bar chart. However, if a color value is\n",
    "# also specified, this item does not get added into this column, since this\n",
    "# data will already get represented in the bar chart (by means of the color\n",
    "# legend). Removing this value helps\n",
    "# simplify the final chart output.\n",
    "\n",
    "pivot_values = ['Airline', 'Airport', 'Route_Type']\n",
    "color_value = 'None' # This color value must also be present\n",
    "# within the pivot_values table.\n",
    "# group_value = 'Airline'\n",
    "if len(pivot_values) == 0:\n",
    "    df_t5_t4_2018_pivot = df_t5_t4_2018.pivot_table(index = 'All_Traffic', values = 'Passengers', aggfunc = 'sum').reset_index()\n",
    "else:\n",
    "    df_t5_t4_2018_pivot = df_t5_t4_2018.pivot_table(index = pivot_values, values = 'Passengers', aggfunc = 'sum').reset_index()\n",
    "\n",
    "# The following lines create a column containing the values of each of the\n",
    "# columns (other than the 'Passengers') column present in the bar chart. A\n",
    "# for loop is used so that this column can adapt to different variable\n",
    "# choices and different numbers of columns.\n",
    "if len(pivot_values) == 0:\n",
    "    data_descriptor = all_data_value\n",
    "else:\n",
    "    data_descriptor_values = pivot_values.copy()\n",
    "    if color_value != 'None':\n",
    "        data_descriptor_values.remove(color_value) # If a value will be assigned a\n",
    "        # color component in the graph, it doesn't need to be assigned a \n",
    "        # group component, since it will show up in the graph regardless. Removing \n",
    "        # it here helps simplify the graph.\n",
    "    print(data_descriptor_values)   \n",
    "    data_descriptor = df_t5_t4_2018_pivot[data_descriptor_values[0]].copy() # This copy() statement\n",
    "    # is needed in order to avoid  modifying this column when the group column\n",
    "    # gets chosen.\n",
    "    for i in range(1, len(data_descriptor_values)):\n",
    "        data_descriptor += ' ' + df_t5_t4_2018_pivot[data_descriptor_values[i]]\n",
    "\n",
    "df_t5_t4_2018_pivot['Group'] = data_descriptor\n",
    "\n",
    "df_t5_t4_2018_pivot.head(5)"
   ]
  },
  {
   "cell_type": "code",
   "execution_count": null,
   "metadata": {},
   "outputs": [],
   "source": [
    "px.histogram(df_t5_t4_2018_pivot, x = 'Group', y = 'Passengers', color = None if color_value == 'None' else color_value, barmode = 'group')"
   ]
  },
  {
   "cell_type": "markdown",
   "metadata": {},
   "source": [
    "## Creating a bar chart showing the top 20 airports by passenger arrivals in 2018:"
   ]
  },
  {
   "cell_type": "code",
   "execution_count": null,
   "metadata": {},
   "outputs": [],
   "source": [
    "df_top_20_airports = pd.read_csv('top_20_airports_by_pax_arrivals_2018.csv')\n",
    "df_top_20_airports"
   ]
  },
  {
   "cell_type": "code",
   "execution_count": null,
   "metadata": {},
   "outputs": [],
   "source": [
    "top_20_airports_list = list(df_top_20_airports['Airport'].unique())\n",
    "top_20_airports_list"
   ]
  },
  {
   "cell_type": "code",
   "execution_count": null,
   "metadata": {},
   "outputs": [],
   "source": [
    "fig_top_20_airports_2018 = px.bar(df_top_20_airports, x=\"Airport\", y=\"Passengers\")"
   ]
  },
  {
   "cell_type": "code",
   "execution_count": null,
   "metadata": {},
   "outputs": [],
   "source": [
    "fig_top_20_airports_2018"
   ]
  },
  {
   "cell_type": "code",
   "execution_count": null,
   "metadata": {},
   "outputs": [],
   "source": [
    "df_aaa = pd.read_csv('local_copy_of_airports_airlines_aircraft_2018.csv')\n",
    "df_aaa"
   ]
  },
  {
   "cell_type": "code",
   "execution_count": null,
   "metadata": {},
   "outputs": [],
   "source": [
    "# Consider building a graph that lets you pivot by airline name, airport, and plane type and then display the output in both chart form and table form."
   ]
  },
  {
   "cell_type": "code",
   "execution_count": null,
   "metadata": {},
   "outputs": [],
   "source": [
    "# You could also try creating a chart that lets you compare the presence of a given set of airlines (maybe up to 5) for a given set of airports (maybe up to 20. The charts could be either grouped bar charts or stacked bar charts (to show the airline/airport relationship)."
   ]
  },
  {
   "cell_type": "code",
   "execution_count": null,
   "metadata": {},
   "outputs": [],
   "source": [
    "## Top 20 airlines in 2018:\n",
    "\n",
    "df_top_20_airlines = pd.read_csv('top_20_airlines_by_passengers_2018.csv')\n",
    "df_top_20_airlines"
   ]
  },
  {
   "cell_type": "markdown",
   "metadata": {},
   "source": [
    "Creating a list of the top 4 airlines (which will be useful for a later graph):"
   ]
  },
  {
   "cell_type": "code",
   "execution_count": null,
   "metadata": {},
   "outputs": [],
   "source": [
    "top_airlines_list = list(df_top_20_airlines['Airline'][0:4])\n",
    "top_airlines_list"
   ]
  },
  {
   "cell_type": "code",
   "execution_count": null,
   "metadata": {},
   "outputs": [],
   "source": [
    "fig_top_20_airlines_2018 = px.bar(df_top_20_airlines, x=\"Airline\", y=\"Passengers\")\n",
    "fig_top_20_airlines_2018"
   ]
  },
  {
   "cell_type": "code",
   "execution_count": null,
   "metadata": {},
   "outputs": [],
   "source": [
    "df_airline_airport_pairs = pd.read_csv('airport_airline_pairs_2018.csv')\n",
    "df_airline_airport_pairs"
   ]
  },
  {
   "cell_type": "code",
   "execution_count": null,
   "metadata": {},
   "outputs": [],
   "source": [
    "top_airline_list_as_string = (\"|\".join(top_airlines_list)) # Converts the airlines in the list to a string value that the following np.where statement can use to create an 'Other' category of airlines\n",
    "top_airline_list_as_string"
   ]
  },
  {
   "cell_type": "code",
   "execution_count": null,
   "metadata": {},
   "outputs": [],
   "source": [
    "df_airline_airport_pairs"
   ]
  },
  {
   "cell_type": "code",
   "execution_count": null,
   "metadata": {},
   "outputs": [],
   "source": [
    "df_top_airlines_and_airports = df_airline_airport_pairs.query(\"Airport in @top_20_airports_list\").copy().reset_index(drop=True)\n",
    "df_top_airlines_and_airports['Airline'] = np.where(df_top_airlines_and_airports['Airline'].str.contains(top_airline_list_as_string) == False, 'Other', df_top_airlines_and_airports['Airline'])\n",
    "df_top_airlines_and_airports"
   ]
  },
  {
   "cell_type": "code",
   "execution_count": null,
   "metadata": {},
   "outputs": [],
   "source": [
    "df_top_airlines_and_airports = df_top_airlines_and_airports.pivot_table(index = [\"Airline\", \"Airport\"], values = \"Passengers\", aggfunc = \"sum\").reset_index()\n"
   ]
  },
  {
   "cell_type": "code",
   "execution_count": null,
   "metadata": {},
   "outputs": [],
   "source": [
    "df_top_airlines_and_airports['Airline'].value_counts()"
   ]
  },
  {
   "cell_type": "code",
   "execution_count": null,
   "metadata": {},
   "outputs": [],
   "source": [
    "airport_ranks = df_top_20_airports[['Airport', 'Rank']]\n",
    "airport_ranks"
   ]
  },
  {
   "cell_type": "code",
   "execution_count": null,
   "metadata": {},
   "outputs": [],
   "source": [
    "df_top_airlines_and_airports = df_top_airlines_and_airports.merge(airport_ranks, left_on = \"Airport\", right_on = \"Airport\")\n"
   ]
  },
  {
   "cell_type": "code",
   "execution_count": null,
   "metadata": {},
   "outputs": [],
   "source": [
    "df_top_airlines_and_airports.sort_values(\"Rank\", inplace = True)\n",
    "df_top_airlines_and_airports"
   ]
  },
  {
   "cell_type": "markdown",
   "metadata": {},
   "source": [
    "## Top 20 US Airports by Airline Share"
   ]
  },
  {
   "cell_type": "code",
   "execution_count": null,
   "metadata": {},
   "outputs": [],
   "source": [
    "df_top_20_airports"
   ]
  },
  {
   "cell_type": "code",
   "execution_count": null,
   "metadata": {},
   "outputs": [],
   "source": [
    "# Top 20 US Airports by Airline Share:\n",
    "\n",
    "top_airlines_list = list(df_top_20_airlines['Airline'].unique()[0:5])\n",
    "top_airline_list_as_string = (\"|\".join(top_airlines_list)) # Converts the airlines in the list to a string value that the following np.where statement can use to create an 'Other' category of airlines\n",
    "# unique() tags are needed to remove duplicate entries for each airport and\n",
    "# airline. (These duplicates were created through the addition of \n",
    "# domestic/international travel breakdowns for each of the top airports\n",
    "# and airlines.)\n",
    "\n",
    "top_20_airports_list = list(df_top_20_airports['Airport'].unique())\n",
    "print(top_airlines_list, top_20_airports_list)"
   ]
  },
  {
   "cell_type": "code",
   "execution_count": null,
   "metadata": {},
   "outputs": [],
   "source": [
    "df_airline_airport_pairs = pd.read_csv(\"airport_airline_pairs_2018.csv\")\n",
    "\n",
    "\n",
    "df_top_airlines_and_airports = df_airline_airport_pairs.query(\"Airport in @top_20_airports_list\").copy().reset_index(drop=True)\n",
    "df_top_airlines_and_airports['Airline'] = np.where(df_top_airlines_and_airports['Airline'].str.contains(top_airline_list_as_string) == False, 'Other', df_top_airlines_and_airports['Airline'])\n",
    "df_top_airlines_and_airports = df_top_airlines_and_airports.pivot_table(index = [\"Airline\", \"Airport\"], values = \"Passengers\", aggfunc = \"sum\").reset_index()"
   ]
  },
  {
   "cell_type": "code",
   "execution_count": null,
   "metadata": {},
   "outputs": [],
   "source": [
    "list(df_airline_airport_pairs.pivot_table(index = 'Airline', values = 'Passengers', aggfunc = 'sum').sort_values('Passengers', ascending = False).index[0:10])"
   ]
  },
  {
   "cell_type": "code",
   "execution_count": null,
   "metadata": {},
   "outputs": [],
   "source": [
    "df_airline_airport_pairs"
   ]
  },
  {
   "cell_type": "code",
   "execution_count": null,
   "metadata": {},
   "outputs": [],
   "source": [
    "airlines_limit = 5\n",
    "airlines_to_keep = list(df_airline_airport_pairs.pivot_table(index = 'Airline', values = 'Passengers', aggfunc = 'sum').sort_values('Passengers', ascending = False).index[0:airlines_limit])\n",
    "airlines_to_keep"
   ]
  },
  {
   "cell_type": "code",
   "execution_count": null,
   "metadata": {},
   "outputs": [],
   "source": [
    "new_df_airline_airport_pairs = df_airline_airport_pairs.query(\"Airline in @airlines_to_keep\").copy()\n",
    "new_df_airline_airport_pairs"
   ]
  },
  {
   "cell_type": "code",
   "execution_count": null,
   "metadata": {},
   "outputs": [],
   "source": [
    "airport_ranks = df_top_20_airports[['Airport', 'Rank']].drop_duplicates()\n",
    "airport_ranks"
   ]
  },
  {
   "cell_type": "code",
   "execution_count": null,
   "metadata": {},
   "outputs": [],
   "source": [
    "df_top_airlines_and_airports = df_top_airlines_and_airports.merge(airport_ranks, left_on = \"Airport\", right_on = \"Airport\")"
   ]
  },
  {
   "cell_type": "code",
   "execution_count": null,
   "metadata": {},
   "outputs": [],
   "source": [
    "\n",
    "\n",
    "\n",
    "df_top_airlines_and_airports.sort_values(\"Rank\", inplace = True)\n",
    "\n",
    "fig_t4_airline_presence_at_t20_airports = px.bar(df_top_airlines_and_airports, x=\"Airport\", y=\"Passengers\", color=\"Airline\", color_discrete_map=airline_color_map, title=\"Top 20 US Airports by Airline Share in 2018\")\n",
    "fig_t4_airline_presence_at_t20_airports"
   ]
  },
  {
   "cell_type": "code",
   "execution_count": null,
   "metadata": {},
   "outputs": [],
   "source": [
    "df_top_hubs = df_airline_airport_pairs.pivot_table(index = ['Airline', 'Airport'], values = 'Passengers', aggfunc = 'sum').reset_index().sort_values('Passengers', ascending = False)\n",
    "df_top_hubs.head(20)\n",
    "df_top_hubs['Hub'] = df_top_hubs['Airline'] + ' ' + df_top_hubs['Airport']\n",
    "df_top_hubs"
   ]
  },
  {
   "cell_type": "code",
   "execution_count": null,
   "metadata": {},
   "outputs": [],
   "source": [
    "fig_top_hubs = px.bar(df_top_hubs.iloc[0:20, :], x = 'Hub', y = 'Passengers', color = 'Airline', color_discrete_map=airline_color_map)\n",
    "fig_top_hubs.update_xaxes(categoryorder = 'total descending', title = \"Top 20 US Airport Hubs in 2018 by Arriving Passengers\") # See https://plotly.com/python/categorical-axes/"
   ]
  },
  {
   "cell_type": "markdown",
   "metadata": {},
   "source": [
    "## Determining the top international hubs:"
   ]
  },
  {
   "cell_type": "code",
   "execution_count": null,
   "metadata": {},
   "outputs": [],
   "source": [
    "df_top_intl_hubs = df_airline_airport_pairs.query(\"Route_Type == 'International' & Destination_Region == 'Domestic'\").pivot_table(index = ['Airline', 'Airport'], values = 'Passengers', aggfunc = 'sum').reset_index().sort_values('Passengers', ascending = False)\n",
    "# I'd only like to show US airports within this chart, so I chose to filter it to include only domestic airports.\n",
    "df_top_intl_hubs['Hub'] = df_top_intl_hubs['Airline'] + ' ' + df_top_intl_hubs['Airport']\n",
    "df_top_intl_hubs.head(20)"
   ]
  },
  {
   "cell_type": "code",
   "execution_count": null,
   "metadata": {},
   "outputs": [],
   "source": [
    "fig_top_intl_hubs = px.bar(df_top_intl_hubs.iloc[0:20, :], x = 'Hub', y = 'Passengers', color = 'Airline', color_discrete_map=airline_color_map)\n",
    "# fig_top_intl_hubs.update_traces(marker_line=dict(width=1,color='black'))\n",
    "# See https://plotly.com/python/marker-style/\n",
    "fig_top_intl_hubs.update_xaxes(categoryorder = 'total descending', title = \"Top 20 US Airport Hubs in 2018 by Arriving International Passengers\") # See https://plotly.com/python/categorical-axes/"
   ]
  },
  {
   "cell_type": "markdown",
   "metadata": {},
   "source": [
    "# Creating a table of departures for a given airport:"
   ]
  },
  {
   "cell_type": "code",
   "execution_count": null,
   "metadata": {},
   "outputs": [],
   "source": [
    "df_dest_by_origin = pd.read_csv('dest_to_origin_2018.csv')"
   ]
  },
  {
   "cell_type": "code",
   "execution_count": null,
   "metadata": {},
   "outputs": [],
   "source": [
    "def create_departures_table(dest_airport):\n",
    "    df_airport_by_origin = df_dest_by_origin.query(\"Airport == @dest_airport\").sort_values('Passengers', ascending = False).reset_index(drop=True)\n",
    "    if len(df_airport_by_origin) > 20:\n",
    "        other_row = [dest_airport, 'Other', sum(df_airport_by_origin.iloc[20:,]['Passengers'])]\n",
    "        df_airport_by_origin = df_airport_by_origin.iloc[0:20]\n",
    "        df_airport_by_origin.loc[len(df_airport_by_origin)] = other_row\n",
    "    pax_sum = sum(df_airport_by_origin['Passengers'])    \n",
    "    df_airport_by_origin['Share'] = 100*df_airport_by_origin['Passengers'] / pax_sum  \n",
    "    return (df_airport_by_origin)\n"
   ]
  },
  {
   "cell_type": "code",
   "execution_count": null,
   "metadata": {},
   "outputs": [],
   "source": [
    "df_origins_for_airport = create_departures_table('ABQ')\n",
    "df_origins_for_airport"
   ]
  },
  {
   "cell_type": "code",
   "execution_count": null,
   "metadata": {},
   "outputs": [],
   "source": [
    "sum(df_origins_for_airport['Share'])"
   ]
  },
  {
   "cell_type": "code",
   "execution_count": null,
   "metadata": {},
   "outputs": [],
   "source": [
    "df = df_origins_for_airport\n",
    "go.Figure(data=go.Table(\n",
    "    header = dict(\n",
    "        values = list(df.columns)\n",
    "        ), \n",
    "    cells = dict(\n",
    "        values = [df['Airport'], df['Origin'], df['Passengers'], df['Share']] )))"
   ]
  },
  {
   "cell_type": "code",
   "execution_count": null,
   "metadata": {},
   "outputs": [],
   "source": [
    "fig_top_origins_for_airport = px.bar(df_origins_for_airport, x = 'Origin', y = 'Passengers')\n",
    "fig_top_origins_for_airport"
   ]
  },
  {
   "cell_type": "code",
   "execution_count": null,
   "metadata": {},
   "outputs": [],
   "source": []
  }
 ],
 "metadata": {
  "kernelspec": {
   "display_name": "Python 3.10.6 ('kbdashdemo')",
   "language": "python",
   "name": "python3"
  },
  "language_info": {
   "codemirror_mode": {
    "name": "ipython",
    "version": 3
   },
   "file_extension": ".py",
   "mimetype": "text/x-python",
   "name": "python",
   "nbconvert_exporter": "python",
   "pygments_lexer": "ipython3",
   "version": "3.10.6"
  },
  "orig_nbformat": 4,
  "vscode": {
   "interpreter": {
    "hash": "46254542b3191838732012b36afecce351da031400950215516db7deecd8ab49"
   }
  }
 },
 "nbformat": 4,
 "nbformat_minor": 2
}
